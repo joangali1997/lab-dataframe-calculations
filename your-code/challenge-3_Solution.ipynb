{
 "cells": [
  {
   "cell_type": "markdown",
   "metadata": {},
   "source": [
    "# Challenge 3\n",
    "\n",
    "In this challenge we will work on the `Orders` data set. In your work you will apply the thinking process and workflow we showed you in Challenge 2.\n",
    "\n",
    "You are serving as a Business Intelligence Analyst at the headquarter of an international fashion goods chain store. Your boss today asked you to do two things for her:\n",
    "\n",
    "**First, identify two groups of customers from the data set.** The first group is **VIP Customers** whose **aggregated expenses** at your global chain stores are **above the 95th percentile** (aka. 0.95 quantile). The second group is **Preferred Customers** whose **aggregated expenses** are **between the 75th and 95th percentile**.\n",
    "\n",
    "**Second, identify which country has the most of your VIP customers, and which country has the most of your VIP+Preferred Customers combined.**"
   ]
  },
  {
   "cell_type": "markdown",
   "metadata": {},
   "source": [
    "## Q1: How to identify VIP & Preferred Customers?\n",
    "\n",
    "We start by importing all the required libraries:"
   ]
  },
  {
   "cell_type": "code",
   "execution_count": 2,
   "metadata": {},
   "outputs": [],
   "source": [
    "# import required libraries\n",
    "import numpy as np\n",
    "import pandas as pd"
   ]
  },
  {
   "cell_type": "markdown",
   "metadata": {},
   "source": [
    "Next, extract and import `Orders` dataset into a dataframe variable called `orders`. Print the head of `orders` to overview the data:"
   ]
  },
  {
   "cell_type": "code",
   "execution_count": 6,
   "metadata": {},
   "outputs": [
    {
     "data": {
      "text/html": [
       "<div>\n",
       "<style scoped>\n",
       "    .dataframe tbody tr th:only-of-type {\n",
       "        vertical-align: middle;\n",
       "    }\n",
       "\n",
       "    .dataframe tbody tr th {\n",
       "        vertical-align: top;\n",
       "    }\n",
       "\n",
       "    .dataframe thead th {\n",
       "        text-align: right;\n",
       "    }\n",
       "</style>\n",
       "<table border=\"1\" class=\"dataframe\">\n",
       "  <thead>\n",
       "    <tr style=\"text-align: right;\">\n",
       "      <th></th>\n",
       "      <th>Order ID</th>\n",
       "      <th>Ship Date</th>\n",
       "      <th>Ship Mode</th>\n",
       "      <th>City</th>\n",
       "      <th>State</th>\n",
       "      <th>Country</th>\n",
       "      <th>Region</th>\n",
       "      <th>Product ID</th>\n",
       "      <th>Jan</th>\n",
       "      <th>Feb</th>\n",
       "      <th>Mar</th>\n",
       "      <th>Apr</th>\n",
       "      <th>May</th>\n",
       "      <th>June</th>\n",
       "      <th>July</th>\n",
       "      <th>August</th>\n",
       "      <th>September</th>\n",
       "      <th>Oct</th>\n",
       "      <th>Nov</th>\n",
       "      <th>Dec</th>\n",
       "    </tr>\n",
       "  </thead>\n",
       "  <tbody>\n",
       "    <tr>\n",
       "      <th>0</th>\n",
       "      <td>ES-2014-1846006</td>\n",
       "      <td>2016-01-03</td>\n",
       "      <td>First Class</td>\n",
       "      <td>Paris</td>\n",
       "      <td>Ile-de-France</td>\n",
       "      <td>France</td>\n",
       "      <td>Central</td>\n",
       "      <td>FUR-BO-10001405</td>\n",
       "      <td>0.296785</td>\n",
       "      <td>0.740937</td>\n",
       "      <td>0.319342</td>\n",
       "      <td>0.664082</td>\n",
       "      <td>0.491991</td>\n",
       "      <td>0.279603</td>\n",
       "      <td>0.721468</td>\n",
       "      <td>0.827661</td>\n",
       "      <td>0.266435</td>\n",
       "      <td>0.593755</td>\n",
       "      <td>0.624222</td>\n",
       "      <td>0.666361</td>\n",
       "    </tr>\n",
       "    <tr>\n",
       "      <th>1</th>\n",
       "      <td>ES-2014-1846006</td>\n",
       "      <td>2016-01-03</td>\n",
       "      <td>First Class</td>\n",
       "      <td>Paris</td>\n",
       "      <td>Ile-de-France</td>\n",
       "      <td>France</td>\n",
       "      <td>Central</td>\n",
       "      <td>OFF-AP-10000977</td>\n",
       "      <td>0.920646</td>\n",
       "      <td>0.968545</td>\n",
       "      <td>0.171464</td>\n",
       "      <td>0.244247</td>\n",
       "      <td>0.025352</td>\n",
       "      <td>0.119380</td>\n",
       "      <td>0.931719</td>\n",
       "      <td>0.742272</td>\n",
       "      <td>0.886169</td>\n",
       "      <td>0.258289</td>\n",
       "      <td>0.523348</td>\n",
       "      <td>0.629398</td>\n",
       "    </tr>\n",
       "    <tr>\n",
       "      <th>2</th>\n",
       "      <td>ES-2014-1846006</td>\n",
       "      <td>2016-01-03</td>\n",
       "      <td>First Class</td>\n",
       "      <td>Paris</td>\n",
       "      <td>Ile-de-France</td>\n",
       "      <td>France</td>\n",
       "      <td>Central</td>\n",
       "      <td>OFF-BI-10002083</td>\n",
       "      <td>0.879809</td>\n",
       "      <td>0.363669</td>\n",
       "      <td>0.150853</td>\n",
       "      <td>0.888946</td>\n",
       "      <td>0.860743</td>\n",
       "      <td>0.648089</td>\n",
       "      <td>0.022201</td>\n",
       "      <td>0.637949</td>\n",
       "      <td>0.873964</td>\n",
       "      <td>0.738800</td>\n",
       "      <td>0.869995</td>\n",
       "      <td>0.182114</td>\n",
       "    </tr>\n",
       "    <tr>\n",
       "      <th>3</th>\n",
       "      <td>ES-2015-1001989</td>\n",
       "      <td>2015-03-15</td>\n",
       "      <td>First Class</td>\n",
       "      <td>Berlin</td>\n",
       "      <td>Berlin</td>\n",
       "      <td>Germany</td>\n",
       "      <td>Central</td>\n",
       "      <td>OFF-BI-10002570</td>\n",
       "      <td>0.258669</td>\n",
       "      <td>0.915954</td>\n",
       "      <td>0.207590</td>\n",
       "      <td>0.659243</td>\n",
       "      <td>0.656168</td>\n",
       "      <td>0.346124</td>\n",
       "      <td>0.227398</td>\n",
       "      <td>0.934574</td>\n",
       "      <td>0.639858</td>\n",
       "      <td>0.757322</td>\n",
       "      <td>0.921393</td>\n",
       "      <td>0.983744</td>\n",
       "    </tr>\n",
       "    <tr>\n",
       "      <th>4</th>\n",
       "      <td>ES-2015-1010958</td>\n",
       "      <td>2015-06-07</td>\n",
       "      <td>Standard Class</td>\n",
       "      <td>Deuil-la-Barre</td>\n",
       "      <td>Ile-de-France</td>\n",
       "      <td>France</td>\n",
       "      <td>Central</td>\n",
       "      <td>OFF-BI-10004924</td>\n",
       "      <td>0.283790</td>\n",
       "      <td>0.224399</td>\n",
       "      <td>0.518316</td>\n",
       "      <td>0.396888</td>\n",
       "      <td>0.709176</td>\n",
       "      <td>0.137325</td>\n",
       "      <td>0.771152</td>\n",
       "      <td>0.605851</td>\n",
       "      <td>0.209154</td>\n",
       "      <td>0.599237</td>\n",
       "      <td>0.209094</td>\n",
       "      <td>0.662120</td>\n",
       "    </tr>\n",
       "  </tbody>\n",
       "</table>\n",
       "</div>"
      ],
      "text/plain": [
       "          Order ID  Ship Date       Ship Mode            City          State  \\\n",
       "0  ES-2014-1846006 2016-01-03     First Class           Paris  Ile-de-France   \n",
       "1  ES-2014-1846006 2016-01-03     First Class           Paris  Ile-de-France   \n",
       "2  ES-2014-1846006 2016-01-03     First Class           Paris  Ile-de-France   \n",
       "3  ES-2015-1001989 2015-03-15     First Class          Berlin         Berlin   \n",
       "4  ES-2015-1010958 2015-06-07  Standard Class  Deuil-la-Barre  Ile-de-France   \n",
       "\n",
       "   Country   Region       Product ID       Jan       Feb       Mar       Apr  \\\n",
       "0   France  Central  FUR-BO-10001405  0.296785  0.740937  0.319342  0.664082   \n",
       "1   France  Central  OFF-AP-10000977  0.920646  0.968545  0.171464  0.244247   \n",
       "2   France  Central  OFF-BI-10002083  0.879809  0.363669  0.150853  0.888946   \n",
       "3  Germany  Central  OFF-BI-10002570  0.258669  0.915954  0.207590  0.659243   \n",
       "4   France  Central  OFF-BI-10004924  0.283790  0.224399  0.518316  0.396888   \n",
       "\n",
       "        May      June      July    August  September       Oct       Nov  \\\n",
       "0  0.491991  0.279603  0.721468  0.827661   0.266435  0.593755  0.624222   \n",
       "1  0.025352  0.119380  0.931719  0.742272   0.886169  0.258289  0.523348   \n",
       "2  0.860743  0.648089  0.022201  0.637949   0.873964  0.738800  0.869995   \n",
       "3  0.656168  0.346124  0.227398  0.934574   0.639858  0.757322  0.921393   \n",
       "4  0.709176  0.137325  0.771152  0.605851   0.209154  0.599237  0.209094   \n",
       "\n",
       "        Dec  \n",
       "0  0.666361  \n",
       "1  0.629398  \n",
       "2  0.182114  \n",
       "3  0.983744  \n",
       "4  0.662120  "
      ]
     },
     "execution_count": 6,
     "metadata": {},
     "output_type": "execute_result"
    }
   ],
   "source": [
    "# your code here\n",
    "orders = pd.read_excel(\"../../orders.xlsx\")\n",
    "orders.head()"
   ]
  },
  {
   "cell_type": "markdown",
   "metadata": {},
   "source": [
    "---\n",
    "\n",
    "\"Identify VIP and Preferred Customers\" is the non-technical goal of your boss. You need to translate that goal into technical languages that data analysts use:\n",
    "\n",
    "## How to label customers whose aggregated `amount_spent` is in a given quantile range?\n"
   ]
  },
  {
   "cell_type": "markdown",
   "metadata": {},
   "source": [
    "We break down the main problem into several sub problems:\n",
    "\n",
    "#### Sub Problem 1: How to aggregate the  `amount_spent` for unique customers?\n",
    "\n",
    "#### Sub Problem 2: How to select customers whose aggregated `amount_spent` is in a given quantile range?\n",
    "\n",
    "#### Sub Problem 3: How to label selected customers as \"VIP\" or \"Preferred\"?\n",
    "\n",
    "*Note: If you want to break down the main problem in a different way, please feel free to revise the sub problems above.*\n",
    "\n",
    "Now in the workspace below, tackle each of the sub problems using the iterative problem solving workflow. Insert cells as necessary to write your codes and explain your steps."
   ]
  },
  {
   "cell_type": "code",
   "execution_count": null,
   "metadata": {},
   "outputs": [],
   "source": [
    "# your code here"
   ]
  },
  {
   "cell_type": "markdown",
   "metadata": {},
   "source": [
    "Now we'll leave it to you to solve Q2 & Q3, which you can leverage from your solution for Q1:\n",
    "\n",
    "## Q2: How to identify which country has the most VIP Customers?"
   ]
  },
  {
   "cell_type": "code",
   "execution_count": null,
   "metadata": {},
   "outputs": [],
   "source": [
    "# your code here"
   ]
  },
  {
   "cell_type": "markdown",
   "metadata": {},
   "source": [
    "## Q3: How to identify which country has the most VIP+Preferred Customers combined?"
   ]
  },
  {
   "cell_type": "code",
   "execution_count": null,
   "metadata": {},
   "outputs": [],
   "source": [
    "# your code here"
   ]
  }
 ],
 "metadata": {
  "kernelspec": {
   "display_name": "Python 3",
   "language": "python",
   "name": "python3"
  },
  "language_info": {
   "codemirror_mode": {
    "name": "ipython",
    "version": 3
   },
   "file_extension": ".py",
   "mimetype": "text/x-python",
   "name": "python",
   "nbconvert_exporter": "python",
   "pygments_lexer": "ipython3",
   "version": "3.8.5"
  }
 },
 "nbformat": 4,
 "nbformat_minor": 2
}
